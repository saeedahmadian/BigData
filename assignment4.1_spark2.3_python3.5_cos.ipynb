{
    "nbformat_minor": 1, 
    "cells": [
        {
            "source": "# This note book explains everything needed for the first course ", 
            "cell_type": "markdown", 
            "metadata": {}
        }, 
        {
            "source": "## mean, Standard deviation, covariance, correlation", 
            "cell_type": "markdown", 
            "metadata": {}
        }, 
        {
            "source": "rdd= sc.parallelize(range(100))\nrdd1= sc.parallelize(range(-200,-10))", 
            "cell_type": "code", 
            "execution_count": 25, 
            "outputs": [], 
            "metadata": {}
        }, 
        {
            "source": "## Sum and Count and average", 
            "cell_type": "markdown", 
            "metadata": {}
        }, 
        {
            "source": "\nrdd_sum = rdd.sum()\nn = rdd.count()", 
            "cell_type": "code", 
            "execution_count": 10, 
            "outputs": [], 
            "metadata": {}
        }, 
        {
            "source": "avg= rdd_sum/n", 
            "cell_type": "code", 
            "execution_count": 11, 
            "outputs": [], 
            "metadata": {}
        }, 
        {
            "source": "## filtering method", 
            "cell_type": "markdown", 
            "metadata": {}
        }, 
        {
            "source": "rdd.filter(lambda x : x > 5 and x < 20).collect()", 
            "cell_type": "code", 
            "execution_count": 66, 
            "outputs": [
                {
                    "output_type": "execute_result", 
                    "metadata": {}, 
                    "data": {
                        "text/plain": "[6, 7, 8, 9, 10, 11, 12, 13, 14, 15, 16, 17, 18, 19]"
                    }, 
                    "execution_count": 66
                }
            ], 
            "metadata": {}
        }, 
        {
            "source": "## sort, index,lookup, replacing (key,valu) to (value,key) and etc.", 
            "cell_type": "markdown", 
            "metadata": {}
        }, 
        {
            "source": "rdd1.sortBy(lambda x : x).take(10)", 
            "cell_type": "code", 
            "execution_count": 27, 
            "outputs": [
                {
                    "output_type": "execute_result", 
                    "metadata": {}, 
                    "data": {
                        "text/plain": "[-200, -199, -198, -197, -196, -195, -194, -193, -192, -191]"
                    }, 
                    "execution_count": 27
                }
            ], 
            "metadata": {}
        }, 
        {
            "source": "newrdd = rdd.map(lambda x: -x).zipWithIndex().map(lambda a:(a[1], a[0]))", 
            "cell_type": "code", 
            "execution_count": 76, 
            "outputs": [], 
            "metadata": {}
        }, 
        {
            "source": "index=10\nnewrdd.lookup(index)", 
            "cell_type": "code", 
            "execution_count": 78, 
            "outputs": [
                {
                    "output_type": "execute_result", 
                    "metadata": {}, 
                    "data": {
                        "text/plain": "[-10]"
                    }, 
                    "execution_count": 78
                }
            ], 
            "metadata": {}
        }, 
        {
            "source": "rdd.map(lambda x: -x).take(10)", 
            "cell_type": "code", 
            "execution_count": 42, 
            "outputs": [
                {
                    "output_type": "execute_result", 
                    "metadata": {}, 
                    "data": {
                        "text/plain": "[0, -1, -2, -3, -4, -5, -6, -7, -8, -9]"
                    }, 
                    "execution_count": 42
                }
            ], 
            "metadata": {}
        }, 
        {
            "source": "rdd1.zipWithIndex()", 
            "cell_type": "code", 
            "execution_count": 46, 
            "outputs": [
                {
                    "output_type": "execute_result", 
                    "metadata": {}, 
                    "data": {
                        "text/plain": "PythonRDD[67] at RDD at PythonRDD.scala:52"
                    }, 
                    "execution_count": 46
                }
            ], 
            "metadata": {}
        }, 
        {
            "source": "type(rdd1.zipWithIndex())", 
            "cell_type": "code", 
            "execution_count": 47, 
            "outputs": [
                {
                    "output_type": "execute_result", 
                    "metadata": {}, 
                    "data": {
                        "text/plain": "pyspark.rdd.PipelinedRDD"
                    }, 
                    "execution_count": 47
                }
            ], 
            "metadata": {}
        }, 
        {
            "source": "rdd1.sortBy(lambda x : x).zipWithIndex().map(lambda a : (a[1],a[0])).take(10)", 
            "cell_type": "code", 
            "execution_count": 79, 
            "outputs": [
                {
                    "output_type": "execute_result", 
                    "metadata": {}, 
                    "data": {
                        "text/plain": "[(0, -200),\n (1, -199),\n (2, -198),\n (3, -197),\n (4, -196),\n (5, -195),\n (6, -194),\n (7, -193),\n (8, -192),\n (9, -191)]"
                    }, 
                    "execution_count": 79
                }
            ], 
            "metadata": {}
        }, 
        {
            "source": "", 
            "cell_type": "code", 
            "execution_count": null, 
            "outputs": [], 
            "metadata": {}
        }, 
        {
            "source": "", 
            "cell_type": "code", 
            "execution_count": null, 
            "outputs": [], 
            "metadata": {}
        }, 
        {
            "source": "", 
            "cell_type": "code", 
            "execution_count": null, 
            "outputs": [], 
            "metadata": {}
        }, 
        {
            "source": "# Assignment 4\n\nWelcome to Assignment 4. This will be the most fun. Now we will prepare data for plotting.\n\nJust make sure you hit the play button on each cell from top to down. There are three functions you have to implement. Please also make sure than on each change on a function you hit the play button again on the corresponding cell to make it available to the rest of this notebook. Please also make sure to only implement the function bodies and DON'T add any additional code outside functions since this might confuse the autograder.\n\nSo the function below is used to make it easy for you to create a data frame from a cloudant data frame using the so called \"DataSource\" which is some sort of a plugin which allows ApacheSpark to use different data sources.\n", 
            "cell_type": "markdown", 
            "metadata": {}
        }, 
        {
            "source": "Sampling is one of the most important things when it comes to visualization because often the data set gets so huge that you simply\n\n- can't copy all data to a local Spark driver (Watson Studio is using a \"local\" Spark driver)\n- can't throw all data at the plotting library\n\nPlease implement a function which returns a 10% sample of a given data frame:", 
            "cell_type": "markdown", 
            "metadata": {}
        }, 
        {
            "source": "def getSample(df,spark):\n    #TODO Please enter your code here, you are not required to use the template code below\n    #some reference: https://spark.apache.org/docs/latest/api/python/pyspark.sql.html#pyspark.sql.DataFrame\n    #https://spark.apache.org/docs/latest/api/sql/\n    return df.#YOUR CODE GOES HERE(False,#YOUR CODE GOES HERE)", 
            "cell_type": "code", 
            "execution_count": 2, 
            "outputs": [], 
            "metadata": {
                "collapsed": true
            }
        }, 
        {
            "source": "Now we want to create a histogram and boxplot. Please ignore the sampling for now and return a python list containing all temperature values from the data set", 
            "cell_type": "markdown", 
            "metadata": {}
        }, 
        {
            "source": "def getListForHistogramAndBoxPlot(df,spark):\n    #TODO Please enter your code here, you are not required to use the template code below\n    #some reference: https://spark.apache.org/docs/latest/api/python/pyspark.sql.html#pyspark.sql.DataFrame\n    #https://spark.apache.org/docs/latest/api/sql/\n    my_list = spark.sql(\"\"\"\n        SELECT #YOUR CODE GOES HERE from washing where temperature is not null\n    \"\"\").rdd.map(lambda row: row.temperature).#YOUR CODE GOES HERE\n    if not type(my_list)==list:\n        raise Exception('return type not a list')\n    return my_list", 
            "cell_type": "code", 
            "execution_count": 3, 
            "outputs": [], 
            "metadata": {
                "collapsed": true
            }
        }, 
        {
            "source": "Finally we want to create a run chart. Please return two lists (encapsulated in a python tuple object) containing temperature and timestamp (ts) ordered by timestamp. Please refer to the following link to learn more about tuples in python: https://www.tutorialspoint.com/python/python_tuples.htm", 
            "cell_type": "markdown", 
            "metadata": {}
        }, 
        {
            "source": "#should return a tuple containing the two lists for timestamp and temperature\n#please make sure you take only 10% of the data by sampling\n#please also ensure that you sample in a way that the timestamp samples and temperature samples correspond (=> call sample on an object still containing both dimensions)\ndef getListsForRunChart(df,spark):\n    #TODO Please enter your code here, you are not required to use the template code below\n    #some reference: https://spark.apache.org/docs/latest/api/python/pyspark.sql.html#pyspark.sql.DataFrame\n    #https://spark.apache.org/docs/latest/api/sql/\n    double_tuple_rdd = spark.sql(\"\"\"\n        select #YOUR CODE GOES HERE,#YOUR CODE GOES HERE from washing where temperature is not null order by ts asc\n    \"\"\").#YOUR CODE GOES HERE(False,0.1).rdd.map(lambda row : (row.ts,row.temperature))\n    result_array_ts = double_tuple_rdd.map(lambda ts_temperature: ts_temperature[0]).collect()\n    result_array_temperature = double_tuple_rdd.map(lambda ts_temperature: ts_temperature[1]).collect()\n    return (result_array_ts,result_array_temperature)", 
            "cell_type": "code", 
            "execution_count": 4, 
            "outputs": [], 
            "metadata": {
                "collapsed": true
            }
        }, 
        {
            "source": "### PLEASE DON'T REMOVE THIS BLOCK - THE FOLLOWING CODE IS NOT GRADED\n#axx\n### PLEASE DON'T REMOVE THIS BLOCK - THE FOLLOWING CODE IS NOT GRADED", 
            "cell_type": "markdown", 
            "metadata": {}
        }, 
        {
            "source": "Now it is time to grab a PARQUET file and create a dataframe out of it. Using SparkSQL you can handle it like a database. ", 
            "cell_type": "markdown", 
            "metadata": {}
        }, 
        {
            "source": "!wget https://github.com/IBM/coursera/blob/master/coursera_ds/washing.parquet?raw=true\n!mv washing.parquet?raw=true washing.parquet", 
            "cell_type": "code", 
            "execution_count": 1, 
            "outputs": [
                {
                    "output_type": "stream", 
                    "name": "stdout", 
                    "text": "Waiting for a Spark session to start...\nSpark Initialization Done! ApplicationId = app-20190826180631-0000\nKERNEL_ID = d447f779-b843-45a0-82c5-4898ef9471fe\n--2019-08-26 18:06:34--  https://github.com/IBM/coursera/blob/master/coursera_ds/washing.parquet?raw=true\nResolving github.com (github.com)... 140.82.113.3\nConnecting to github.com (github.com)|140.82.113.3|:443... connected.\nHTTP request sent, awaiting response... 302 Found\nLocation: https://github.com/IBM/coursera/raw/master/coursera_ds/washing.parquet [following]\n--2019-08-26 18:06:34--  https://github.com/IBM/coursera/raw/master/coursera_ds/washing.parquet\nReusing existing connection to github.com:443.\nHTTP request sent, awaiting response... 302 Found\nLocation: https://raw.githubusercontent.com/IBM/coursera/master/coursera_ds/washing.parquet [following]\n--2019-08-26 18:06:34--  https://raw.githubusercontent.com/IBM/coursera/master/coursera_ds/washing.parquet\nResolving raw.githubusercontent.com (raw.githubusercontent.com)... 199.232.8.133\nConnecting to raw.githubusercontent.com (raw.githubusercontent.com)|199.232.8.133|:443... connected.\nHTTP request sent, awaiting response... 200 OK\nLength: 112048 (109K) [application/octet-stream]\nSaving to: 'washing.parquet?raw=true'\n\nwashing.parquet?raw 100%[===================>] 109.42K  --.-KB/s    in 0.007s  \n\n2019-08-26 18:06:34 (16.0 MB/s) - 'washing.parquet?raw=true' saved [112048/112048]\n\n"
                }
            ], 
            "metadata": {}
        }, 
        {
            "source": "df = spark.read.parquet('washing.parquet')\ndf.createOrReplaceTempView('washing')\ndf.show()", 
            "cell_type": "code", 
            "execution_count": 2, 
            "outputs": [
                {
                    "output_type": "stream", 
                    "name": "stdout", 
                    "text": "+--------------------+--------------------+-----+--------+----------+---------+--------+-----+-----------+-------------+-------+\n|                 _id|                _rev|count|flowrate|fluidlevel|frequency|hardness|speed|temperature|           ts|voltage|\n+--------------------+--------------------+-----+--------+----------+---------+--------+-----+-----------+-------------+-------+\n|0d86485d0f88d1f9d...|1-57940679fb8a713...|    4|      11|acceptable|     null|      77| null|        100|1547808723923|   null|\n|0d86485d0f88d1f9d...|1-15ff3a0b304d789...|    2|    null|      null|     null|    null| 1046|       null|1547808729917|   null|\n|0d86485d0f88d1f9d...|1-97c2742b68c7b07...|    4|    null|      null|       71|    null| null|       null|1547808731918|    236|\n|0d86485d0f88d1f9d...|1-eefb903dbe45746...|   19|      11|acceptable|     null|      75| null|         86|1547808738999|   null|\n|0d86485d0f88d1f9d...|1-5f68b4c72813c25...|    7|    null|      null|       75|    null| null|       null|1547808740927|    235|\n|0d86485d0f88d1f9d...|1-cd4b6c57ddbe77e...|    5|    null|      null|     null|    null| 1014|       null|1547808744923|   null|\n|0d86485d0f88d1f9d...|1-a35b25b5bf43aaf...|   32|      11|acceptable|     null|      73| null|         84|1547808752028|   null|\n|0d86485d0f88d1f9d...|1-b717f7289a8476d...|   48|      11|acceptable|     null|      79| null|         84|1547808768065|   null|\n|0d86485d0f88d1f9d...|1-c2f1f8fcf178b2f...|   18|    null|      null|       73|    null| null|       null|1547808773944|    228|\n|0d86485d0f88d1f9d...|1-15033dd9eebb4a8...|   59|      11|acceptable|     null|      72| null|         96|1547808779093|   null|\n|0d86485d0f88d1f9d...|1-753dae825f9a6c2...|   62|      11|acceptable|     null|      73| null|         88|1547808782113|   null|\n|0d86485d0f88d1f9d...|1-b168089f44f03f0...|   13|    null|      null|     null|    null| 1097|       null|1547808784940|   null|\n|0d86485d0f88d1f9d...|1-403b687c6be0dea...|   23|    null|      null|       80|    null| null|       null|1547808788955|    236|\n|0d86485d0f88d1f9d...|1-195551e0455a24b...|   72|      11|acceptable|     null|      77| null|         87|1547808792134|   null|\n|0d86485d0f88d1f9d...|1-060a39fc6c2ddee...|   26|    null|      null|       62|    null| null|       null|1547808797959|    233|\n|0d86485d0f88d1f9d...|1-2234514bffee465...|   27|    null|      null|       61|    null| null|       null|1547808800960|    226|\n|0d86485d0f88d1f9d...|1-4265898bb401db0...|   82|      11|acceptable|     null|      79| null|         96|1547808802154|   null|\n|0d86485d0f88d1f9d...|1-2fbf7ca9a0425a0...|   94|      11|acceptable|     null|      73| null|         90|1547808814186|   null|\n|0d86485d0f88d1f9d...|1-203c0ee6d7fbd21...|   97|      11|acceptable|     null|      77| null|         88|1547808817190|   null|\n|0d86485d0f88d1f9d...|1-47e1965db94fcab...|  104|      11|acceptable|     null|      75| null|         80|1547808824198|   null|\n+--------------------+--------------------+-----+--------+----------+---------+--------+-----+-----------+-------------+-------+\nonly showing top 20 rows\n\n"
                }
            ], 
            "metadata": {}
        }, 
        {
            "source": "# Query from table using Spark.sql", 
            "cell_type": "markdown", 
            "metadata": {}
        }, 
        {
            "source": "SQLdf=spark.sql(\"SELECT * FROM washing\")\nSQLdf.show()", 
            "cell_type": "code", 
            "execution_count": 3, 
            "outputs": [
                {
                    "output_type": "stream", 
                    "name": "stdout", 
                    "text": "+--------------------+--------------------+-----+--------+----------+---------+--------+-----+-----------+-------------+-------+\n|                 _id|                _rev|count|flowrate|fluidlevel|frequency|hardness|speed|temperature|           ts|voltage|\n+--------------------+--------------------+-----+--------+----------+---------+--------+-----+-----------+-------------+-------+\n|0d86485d0f88d1f9d...|1-57940679fb8a713...|    4|      11|acceptable|     null|      77| null|        100|1547808723923|   null|\n|0d86485d0f88d1f9d...|1-15ff3a0b304d789...|    2|    null|      null|     null|    null| 1046|       null|1547808729917|   null|\n|0d86485d0f88d1f9d...|1-97c2742b68c7b07...|    4|    null|      null|       71|    null| null|       null|1547808731918|    236|\n|0d86485d0f88d1f9d...|1-eefb903dbe45746...|   19|      11|acceptable|     null|      75| null|         86|1547808738999|   null|\n|0d86485d0f88d1f9d...|1-5f68b4c72813c25...|    7|    null|      null|       75|    null| null|       null|1547808740927|    235|\n|0d86485d0f88d1f9d...|1-cd4b6c57ddbe77e...|    5|    null|      null|     null|    null| 1014|       null|1547808744923|   null|\n|0d86485d0f88d1f9d...|1-a35b25b5bf43aaf...|   32|      11|acceptable|     null|      73| null|         84|1547808752028|   null|\n|0d86485d0f88d1f9d...|1-b717f7289a8476d...|   48|      11|acceptable|     null|      79| null|         84|1547808768065|   null|\n|0d86485d0f88d1f9d...|1-c2f1f8fcf178b2f...|   18|    null|      null|       73|    null| null|       null|1547808773944|    228|\n|0d86485d0f88d1f9d...|1-15033dd9eebb4a8...|   59|      11|acceptable|     null|      72| null|         96|1547808779093|   null|\n|0d86485d0f88d1f9d...|1-753dae825f9a6c2...|   62|      11|acceptable|     null|      73| null|         88|1547808782113|   null|\n|0d86485d0f88d1f9d...|1-b168089f44f03f0...|   13|    null|      null|     null|    null| 1097|       null|1547808784940|   null|\n|0d86485d0f88d1f9d...|1-403b687c6be0dea...|   23|    null|      null|       80|    null| null|       null|1547808788955|    236|\n|0d86485d0f88d1f9d...|1-195551e0455a24b...|   72|      11|acceptable|     null|      77| null|         87|1547808792134|   null|\n|0d86485d0f88d1f9d...|1-060a39fc6c2ddee...|   26|    null|      null|       62|    null| null|       null|1547808797959|    233|\n|0d86485d0f88d1f9d...|1-2234514bffee465...|   27|    null|      null|       61|    null| null|       null|1547808800960|    226|\n|0d86485d0f88d1f9d...|1-4265898bb401db0...|   82|      11|acceptable|     null|      79| null|         96|1547808802154|   null|\n|0d86485d0f88d1f9d...|1-2fbf7ca9a0425a0...|   94|      11|acceptable|     null|      73| null|         90|1547808814186|   null|\n|0d86485d0f88d1f9d...|1-203c0ee6d7fbd21...|   97|      11|acceptable|     null|      77| null|         88|1547808817190|   null|\n|0d86485d0f88d1f9d...|1-47e1965db94fcab...|  104|      11|acceptable|     null|      75| null|         80|1547808824198|   null|\n+--------------------+--------------------+-----+--------+----------+---------+--------+-----+-----------+-------------+-------+\nonly showing top 20 rows\n\n"
                }
            ], 
            "metadata": {}
        }, 
        {
            "source": "spark.sql(\"select voltage from washing\").count()", 
            "cell_type": "code", 
            "execution_count": 102, 
            "outputs": [
                {
                    "output_type": "execute_result", 
                    "metadata": {}, 
                    "data": {
                        "text/plain": "2058"
                    }, 
                    "execution_count": 102
                }
            ], 
            "metadata": {}
        }, 
        {
            "source": "# calculating more statistics from table using Spark Sql", 
            "cell_type": "markdown", 
            "metadata": {}
        }, 
        {
            "source": "info=spark.sql(\"SELECT min(temperature) as min_tmp, max(temperature) as max_tmp, avg(temperature) as ave_tem FROM washing\")\ninfo.show()", 
            "cell_type": "code", 
            "execution_count": 5, 
            "outputs": [
                {
                    "output_type": "stream", 
                    "name": "stdout", 
                    "text": "+-------+-------+-----------------+\n|min_tmp|max_tmp|          ave_tem|\n+-------+-------+-----------------+\n|     80|    100|90.03800298062593|\n+-------+-------+-----------------+\n\n"
                }
            ], 
            "metadata": {}
        }, 
        {
            "source": "result= spark.sql(\"SELECT voltage FROM washing WHERE voltage IS NOT NULL\")\nresult.show(5)", 
            "cell_type": "code", 
            "execution_count": 85, 
            "outputs": [
                {
                    "output_type": "stream", 
                    "name": "stdout", 
                    "text": "+-------+\n|voltage|\n+-------+\n|    236|\n|    235|\n|    228|\n|    236|\n|    233|\n+-------+\nonly showing top 5 rows\n\n"
                }
            ], 
            "metadata": {}
        }, 
        {
            "source": "result.count()", 
            "cell_type": "code", 
            "execution_count": 101, 
            "outputs": [
                {
                    "output_type": "execute_result", 
                    "metadata": {}, 
                    "data": {
                        "text/plain": "448"
                    }, 
                    "execution_count": 101
                }
            ], 
            "metadata": {}
        }, 
        {
            "source": "rdd= sc.parallelize([])", 
            "cell_type": "code", 
            "execution_count": 98, 
            "outputs": [], 
            "metadata": {}
        }, 
        {
            "source": "resuly_array=result.rdd.map(lambda Row : Row.voltage ).sample(False, 0.1).collect()", 
            "cell_type": "code", 
            "execution_count": 100, 
            "outputs": [], 
            "metadata": {}
        }, 
        {
            "source": "## new Query from table and change it to rdd using (sc.parallelize([]))", 
            "cell_type": "markdown", 
            "metadata": {}
        }, 
        {
            "source": "rdd= sc.parallelize([])", 
            "cell_type": "code", 
            "execution_count": null, 
            "outputs": [], 
            "metadata": {}
        }, 
        {
            "source": "result = spark.sql(\"select voltage,speed,ts from washing where voltage || speed is not null order by ts asc\")\nresult.rdd.take(10)", 
            "cell_type": "code", 
            "execution_count": 129, 
            "outputs": [
                {
                    "output_type": "execute_result", 
                    "metadata": {}, 
                    "data": {
                        "text/plain": "[]"
                    }, 
                    "execution_count": 129
                }
            ], 
            "metadata": {}
        }, 
        {
            "source": "result_rdd= result.rdd.map(lambda row : (row.ts,row.voltage) ).sample(False,0.1)\nresult_rdd.take(10)", 
            "cell_type": "code", 
            "execution_count": 125, 
            "outputs": [
                {
                    "output_type": "execute_result", 
                    "metadata": {}, 
                    "data": {
                        "text/plain": "[]"
                    }, 
                    "execution_count": 125
                }
            ], 
            "metadata": {}
        }, 
        {
            "source": "result_array_voltage = result_rdd.map(lambda a : a[1]).collect()\nresult_array_voltage", 
            "cell_type": "code", 
            "execution_count": 113, 
            "outputs": [
                {
                    "output_type": "execute_result", 
                    "metadata": {}, 
                    "data": {
                        "text/plain": "[223,\n 235,\n 229,\n 226,\n 235,\n 225,\n 220,\n 225,\n 223,\n 228,\n 236,\n 221,\n 225,\n 231,\n 222,\n 235,\n 222,\n 232,\n 224,\n 236,\n 231,\n 229,\n 231,\n 235,\n 223,\n 224,\n 235,\n 237,\n 235,\n 234,\n 232,\n 233,\n 239,\n 248,\n 250,\n 226,\n 225,\n 229,\n 237,\n 232,\n 235,\n 239,\n 221,\n 239,\n 235,\n 255,\n 229,\n 235,\n 226,\n 221,\n 232]"
                    }, 
                    "execution_count": 113
                }
            ], 
            "metadata": {}
        }, 
        {
            "source": "", 
            "cell_type": "code", 
            "execution_count": null, 
            "outputs": [], 
            "metadata": {}
        }, 
        {
            "source": "%matplotlib inline\nimport matplotlib.pyplot as plt", 
            "cell_type": "code", 
            "execution_count": null, 
            "outputs": [], 
            "metadata": {}
        }, 
        {
            "source": "plt.hist(getListForHistogramAndBoxPlot(df,spark))\nplt.show()", 
            "cell_type": "code", 
            "execution_count": 11, 
            "outputs": [
                {
                    "output_type": "display_data", 
                    "data": {
                        "image/png": "[encoded data removed]", 
                        "text/plain": "<matplotlib.figure.Figure at 0x7f00a3e29250>"
                    }, 
                    "metadata": {}
                }
            ], 
            "metadata": {}
        }, 
        {
            "source": "plt.boxplot(getListForHistogramAndBoxPlot(df,spark))\nplt.show()", 
            "cell_type": "code", 
            "execution_count": 12, 
            "outputs": [
                {
                    "output_type": "display_data", 
                    "data": {
                        "image/png": "[encoded data removed]", 
                        "text/plain": "<matplotlib.figure.Figure at 0x7f007977e250>"
                    }, 
                    "metadata": {}
                }
            ], 
            "metadata": {}
        }, 
        {
            "source": "lists = getListsForRunChart(df,spark)", 
            "cell_type": "code", 
            "execution_count": 13, 
            "outputs": [], 
            "metadata": {
                "collapsed": true
            }
        }, 
        {
            "source": "plt.plot(lists[0],lists[1])\nplt.xlabel(\"time\")\nplt.ylabel(\"temperature\")\nplt.show()", 
            "cell_type": "code", 
            "execution_count": 14, 
            "outputs": [
                {
                    "output_type": "display_data", 
                    "data": {
                        "image/png": "[encoded data removed]", 
                        "text/plain": "<matplotlib.figure.Figure at 0x7f0079789c50>"
                    }, 
                    "metadata": {}
                }
            ], 
            "metadata": {}
        }, 
        {
            "source": "# Dimentionality reduction", 
            "cell_type": "markdown", 
            "metadata": {}
        }, 
        {
            "source": "import ibmos2spark\n\n# @hidden_cell\ncredentials = {\n    'endpoint': 'https://s3-api.us-geo.objectstorage.service.networklayer.com',\n    'api_key': 'PUJMZf9PLqN4y-6NUtVlEuq6zFoWhfuecFVMYLBrkxrT',\n    'service_id': 'iam-ServiceId-9cd8e66e-3bb4-495a-807a-588692cca4d0',\n    'iam_service_endpoint': 'https://iam.bluemix.net/oidc/token'}\n\nconfiguration_name = 'os_b0f1407510994fd1b793b85137baafb8_configs'\ncos = ibmos2spark.CloudObjectStorage(sc, credentials, configuration_name, 'bluemix_cos')\n\nfrom pyspark.sql import SparkSession\nspark = SparkSession.builder.getOrCreate()\n# Since JSON data can be semi-structured and contain additional metadata, it is possible that you might face issues with the DataFrame layout.\n# Please read the documentation of 'SparkSession.read()' to learn more about the possibilities to adjust the data loading.\n# PySpark documentation: http://spark.apache.org/docs/2.0.2/api/python/pyspark.sql.html#pyspark.sql.DataFrameReader.json\n\ndf = spark.read.parquet(cos.url('washing.parquet', 'courseradsnew-donotdelete-pr-1hffrnl2pprwut'))\ndf.createOrReplaceTempView('washing')\ndf.show()\n", 
            "cell_type": "code", 
            "execution_count": 1, 
            "outputs": [
                {
                    "output_type": "stream", 
                    "name": "stdout", 
                    "text": "Waiting for a Spark session to start...\nSpark Initialization Done! ApplicationId = app-20190827055630-0000\nKERNEL_ID = 96ab7acd-9ef1-4411-9147-6d7a614bf04e\n+--------------------+--------------------+-----+--------+----------+---------+--------+-----+-----------+-------------+-------+\n|                 _id|                _rev|count|flowrate|fluidlevel|frequency|hardness|speed|temperature|           ts|voltage|\n+--------------------+--------------------+-----+--------+----------+---------+--------+-----+-----------+-------------+-------+\n|0d86485d0f88d1f9d...|1-57940679fb8a713...|    4|      11|acceptable|     null|      77| null|        100|1547808723923|   null|\n|0d86485d0f88d1f9d...|1-15ff3a0b304d789...|    2|    null|      null|     null|    null| 1046|       null|1547808729917|   null|\n|0d86485d0f88d1f9d...|1-97c2742b68c7b07...|    4|    null|      null|       71|    null| null|       null|1547808731918|    236|\n|0d86485d0f88d1f9d...|1-eefb903dbe45746...|   19|      11|acceptable|     null|      75| null|         86|1547808738999|   null|\n|0d86485d0f88d1f9d...|1-5f68b4c72813c25...|    7|    null|      null|       75|    null| null|       null|1547808740927|    235|\n|0d86485d0f88d1f9d...|1-cd4b6c57ddbe77e...|    5|    null|      null|     null|    null| 1014|       null|1547808744923|   null|\n|0d86485d0f88d1f9d...|1-a35b25b5bf43aaf...|   32|      11|acceptable|     null|      73| null|         84|1547808752028|   null|\n|0d86485d0f88d1f9d...|1-b717f7289a8476d...|   48|      11|acceptable|     null|      79| null|         84|1547808768065|   null|\n|0d86485d0f88d1f9d...|1-c2f1f8fcf178b2f...|   18|    null|      null|       73|    null| null|       null|1547808773944|    228|\n|0d86485d0f88d1f9d...|1-15033dd9eebb4a8...|   59|      11|acceptable|     null|      72| null|         96|1547808779093|   null|\n|0d86485d0f88d1f9d...|1-753dae825f9a6c2...|   62|      11|acceptable|     null|      73| null|         88|1547808782113|   null|\n|0d86485d0f88d1f9d...|1-b168089f44f03f0...|   13|    null|      null|     null|    null| 1097|       null|1547808784940|   null|\n|0d86485d0f88d1f9d...|1-403b687c6be0dea...|   23|    null|      null|       80|    null| null|       null|1547808788955|    236|\n|0d86485d0f88d1f9d...|1-195551e0455a24b...|   72|      11|acceptable|     null|      77| null|         87|1547808792134|   null|\n|0d86485d0f88d1f9d...|1-060a39fc6c2ddee...|   26|    null|      null|       62|    null| null|       null|1547808797959|    233|\n|0d86485d0f88d1f9d...|1-2234514bffee465...|   27|    null|      null|       61|    null| null|       null|1547808800960|    226|\n|0d86485d0f88d1f9d...|1-4265898bb401db0...|   82|      11|acceptable|     null|      79| null|         96|1547808802154|   null|\n|0d86485d0f88d1f9d...|1-2fbf7ca9a0425a0...|   94|      11|acceptable|     null|      73| null|         90|1547808814186|   null|\n|0d86485d0f88d1f9d...|1-203c0ee6d7fbd21...|   97|      11|acceptable|     null|      77| null|         88|1547808817190|   null|\n|0d86485d0f88d1f9d...|1-47e1965db94fcab...|  104|      11|acceptable|     null|      75| null|         80|1547808824198|   null|\n+--------------------+--------------------+-----+--------+----------+---------+--------+-----+-----------+-------------+-------+\nonly showing top 20 rows\n\n"
                }
            ], 
            "metadata": {}
        }, 
        {
            "source": "result = spark.sql(\"\"\"\nSELECT * from (\n    SELECT\n    min(temperature) over w as min_temperature,\n    max(temperature) over w as max_temperature, \n    min(voltage) over w as min_voltage,\n    max(voltage) over w as max_voltage,\n    min(flowrate) over w as min_flowrate,\n    max(flowrate) over w as max_flowrate,\n    min(frequency) over w as min_frequency,\n    max(frequency) over w as max_frequency,\n    min(hardness) over w as min_hardness,\n    max(hardness) over w as max_hardness,\n    min(speed) over w as min_speed,\n    max(speed) over w as max_speed\n    FROM washing \n    WINDOW w AS (ORDER BY ts ROWS BETWEEN CURRENT ROW AND 10 FOLLOWING) \n)\nWHERE min_temperature is not null \nAND max_temperature is not null\nAND min_voltage is not null\nAND max_voltage is not null\nAND min_flowrate is not null\nAND max_flowrate is not null\nAND min_frequency is not null\nAND max_frequency is not null\nAND min_hardness is not null\nAND min_speed is not null\nAND max_speed is not null   \n\"\"\")", 
            "cell_type": "code", 
            "execution_count": 2, 
            "outputs": [], 
            "metadata": {}
        }, 
        {
            "source": "from pyspark.ml.feature import PCA\nfrom pyspark.ml.linalg import Vectors\nfrom pyspark.ml.feature import VectorAssembler", 
            "cell_type": "code", 
            "execution_count": 3, 
            "outputs": [], 
            "metadata": {}
        }, 
        {
            "source": "type(result)\nresult.columns", 
            "cell_type": "code", 
            "execution_count": 4, 
            "outputs": [
                {
                    "output_type": "execute_result", 
                    "metadata": {}, 
                    "data": {
                        "text/plain": "['min_temperature',\n 'max_temperature',\n 'min_voltage',\n 'max_voltage',\n 'min_flowrate',\n 'max_flowrate',\n 'min_frequency',\n 'max_frequency',\n 'min_hardness',\n 'max_hardness',\n 'min_speed',\n 'max_speed']"
                    }, 
                    "execution_count": 4
                }
            ], 
            "metadata": {}
        }, 
        {
            "source": "## All the requiredd transformation is here and then I just explored more information", 
            "cell_type": "markdown", 
            "metadata": {}
        }, 
        {
            "source": "assembler = VectorAssembler(inputCols=result.columns, outputCol=\"features\")\nfeatures = assembler.transform(result) # this one is pyspark.sql.dataframe or simply data frame\nfeatures.rdd.map(lambda row : row.features).take(10)", 
            "cell_type": "code", 
            "execution_count": 6, 
            "outputs": [
                {
                    "output_type": "execute_result", 
                    "metadata": {}, 
                    "data": {
                        "text/plain": "[DenseVector([81.0, 100.0, 221.0, 223.0, 11.0, 11.0, 68.0, 76.0, 71.0, 78.0, 1033.0, 1033.0]),\n DenseVector([81.0, 100.0, 221.0, 223.0, 11.0, 11.0, 68.0, 76.0, 72.0, 78.0, 1033.0, 1033.0]),\n DenseVector([81.0, 100.0, 221.0, 223.0, 11.0, 11.0, 68.0, 76.0, 72.0, 80.0, 1033.0, 1033.0]),\n DenseVector([81.0, 100.0, 222.0, 223.0, 11.0, 11.0, 68.0, 74.0, 72.0, 80.0, 1033.0, 1046.0]),\n DenseVector([81.0, 100.0, 222.0, 223.0, 11.0, 11.0, 68.0, 74.0, 73.0, 80.0, 1033.0, 1046.0]),\n DenseVector([80.0, 94.0, 222.0, 223.0, 11.0, 11.0, 68.0, 74.0, 73.0, 80.0, 1033.0, 1046.0]),\n DenseVector([80.0, 94.0, 222.0, 236.0, 11.0, 11.0, 68.0, 74.0, 73.0, 80.0, 1046.0, 1046.0]),\n DenseVector([80.0, 94.0, 222.0, 236.0, 11.0, 11.0, 68.0, 74.0, 73.0, 80.0, 1046.0, 1046.0]),\n DenseVector([80.0, 94.0, 222.0, 236.0, 11.0, 11.0, 71.0, 74.0, 73.0, 80.0, 1046.0, 1046.0]),\n DenseVector([80.0, 94.0, 222.0, 236.0, 11.0, 11.0, 71.0, 74.0, 73.0, 80.0, 1046.0, 1046.0])]"
                    }, 
                    "execution_count": 6
                }
            ], 
            "metadata": {}
        }, 
        {
            "source": "## now lets play with commands", 
            "cell_type": "markdown", 
            "metadata": {}
        }, 
        {
            "source": "assembler = VectorAssembler(inputCols=result.columns,outputCol=\"dense_info\")", 
            "cell_type": "code", 
            "execution_count": 5, 
            "outputs": [], 
            "metadata": {}
        }, 
        {
            "source": "features = assembler.transform(result)", 
            "cell_type": "code", 
            "execution_count": 6, 
            "outputs": [], 
            "metadata": {}
        }, 
        {
            "source": "type(features)", 
            "cell_type": "code", 
            "execution_count": 15, 
            "outputs": [
                {
                    "output_type": "execute_result", 
                    "metadata": {}, 
                    "data": {
                        "text/plain": "pyspark.sql.dataframe.DataFrame"
                    }, 
                    "execution_count": 15
                }
            ], 
            "metadata": {}
        }, 
        {
            "source": "features.select('dense_info').show()", 
            "cell_type": "code", 
            "execution_count": 9, 
            "outputs": [
                {
                    "output_type": "stream", 
                    "name": "stdout", 
                    "text": "+--------------------+\n|          dense_info|\n+--------------------+\n|[81.0,100.0,221.0...|\n|[81.0,100.0,221.0...|\n|[81.0,100.0,221.0...|\n|[81.0,100.0,222.0...|\n|[81.0,100.0,222.0...|\n|[80.0,94.0,222.0,...|\n|[80.0,94.0,222.0,...|\n|[80.0,94.0,222.0,...|\n|[80.0,94.0,222.0,...|\n|[80.0,94.0,222.0,...|\n|[80.0,84.0,222.0,...|\n|[80.0,84.0,222.0,...|\n|[80.0,88.0,234.0,...|\n|[80.0,88.0,234.0,...|\n|[80.0,88.0,234.0,...|\n|[80.0,88.0,234.0,...|\n|[80.0,88.0,234.0,...|\n|[80.0,88.0,234.0,...|\n|[81.0,88.0,234.0,...|\n|[81.0,88.0,234.0,...|\n+--------------------+\nonly showing top 20 rows\n\n"
                }
            ], 
            "metadata": {}
        }, 
        {
            "source": "features.rdd.map(lambda row : row.dense_info).take(10)", 
            "cell_type": "code", 
            "execution_count": 8, 
            "outputs": [
                {
                    "output_type": "execute_result", 
                    "metadata": {}, 
                    "data": {
                        "text/plain": "[DenseVector([81.0, 100.0, 221.0, 223.0, 11.0, 11.0, 68.0, 76.0, 71.0, 78.0, 1033.0, 1033.0]),\n DenseVector([81.0, 100.0, 221.0, 223.0, 11.0, 11.0, 68.0, 76.0, 72.0, 78.0, 1033.0, 1033.0]),\n DenseVector([81.0, 100.0, 221.0, 223.0, 11.0, 11.0, 68.0, 76.0, 72.0, 80.0, 1033.0, 1033.0]),\n DenseVector([81.0, 100.0, 222.0, 223.0, 11.0, 11.0, 68.0, 74.0, 72.0, 80.0, 1033.0, 1046.0]),\n DenseVector([81.0, 100.0, 222.0, 223.0, 11.0, 11.0, 68.0, 74.0, 73.0, 80.0, 1033.0, 1046.0]),\n DenseVector([80.0, 94.0, 222.0, 223.0, 11.0, 11.0, 68.0, 74.0, 73.0, 80.0, 1033.0, 1046.0]),\n DenseVector([80.0, 94.0, 222.0, 236.0, 11.0, 11.0, 68.0, 74.0, 73.0, 80.0, 1046.0, 1046.0]),\n DenseVector([80.0, 94.0, 222.0, 236.0, 11.0, 11.0, 68.0, 74.0, 73.0, 80.0, 1046.0, 1046.0]),\n DenseVector([80.0, 94.0, 222.0, 236.0, 11.0, 11.0, 71.0, 74.0, 73.0, 80.0, 1046.0, 1046.0]),\n DenseVector([80.0, 94.0, 222.0, 236.0, 11.0, 11.0, 71.0, 74.0, 73.0, 80.0, 1046.0, 1046.0])]"
                    }, 
                    "execution_count": 8
                }
            ], 
            "metadata": {}
        }, 
        {
            "source": "pca = PCA(k=3, inputCol='dense_info', outputCol=\"pcaFeatures\")\nmodel = pca.fit(features)", 
            "cell_type": "code", 
            "execution_count": 18, 
            "outputs": [], 
            "metadata": {}
        }, 
        {
            "source": "result_and_inputs= model.transform(features)\nresult_pca = model.transform(features).select(\"pcaFeatures\")\n\n", 
            "cell_type": "code", 
            "execution_count": 20, 
            "outputs": [], 
            "metadata": {}
        }, 
        {
            "source": "result_and_inputs.select('dense_info','pcaFeatures').show()", 
            "cell_type": "code", 
            "execution_count": 22, 
            "outputs": [
                {
                    "output_type": "stream", 
                    "name": "stdout", 
                    "text": "+--------------------+--------------------+\n|          dense_info|         pcaFeatures|\n+--------------------+--------------------+\n|[81.0,100.0,221.0...|[1459.97897058141...|\n|[81.0,100.0,221.0...|[1459.99548182867...|\n|[81.0,100.0,221.0...|[1460.08958435612...|\n|[81.0,100.0,222.0...|[1469.69939294195...|\n|[81.0,100.0,222.0...|[1469.71590418921...|\n|[80.0,94.0,222.0,...|[1469.71283173387...|\n|[80.0,94.0,222.0,...|[1478.35302645729...|\n|[80.0,94.0,222.0,...|[1478.35302645729...|\n|[80.0,94.0,222.0,...|[1478.36860361381...|\n|[80.0,94.0,222.0,...|[1478.36860361381...|\n|[80.0,84.0,222.0,...|[1483.54120276840...|\n|[80.0,84.0,222.0,...|[1483.51710902233...|\n|[80.0,88.0,234.0,...|[1483.42242685429...|\n|[80.0,88.0,234.0,...|[1483.42242685429...|\n|[80.0,88.0,234.0,...|[1488.10307354727...|\n|[80.0,88.0,234.0,...|[1488.10769268496...|\n|[80.0,88.0,234.0,...|[1488.01359015751...|\n|[80.0,88.0,234.0,...|[1488.02637455661...|\n|[81.0,88.0,234.0,...|[1465.16447384470...|\n|[81.0,88.0,234.0,...|[1465.16447384470...|\n+--------------------+--------------------+\nonly showing top 20 rows\n\n"
                }
            ], 
            "metadata": {}
        }, 
        {
            "source": "result_pca.show(truncate=False)", 
            "cell_type": "code", 
            "execution_count": 24, 
            "outputs": [
                {
                    "output_type": "stream", 
                    "name": "stdout", 
                    "text": "+-----------------------------------------------------------+\n|pcaFeatures                                                |\n+-----------------------------------------------------------+\n|[1459.9789705814187,-18.745237781780922,70.78430794796873] |\n|[1459.995481828676,-19.11343146165273,70.72738871425986]   |\n|[1460.0895843561282,-20.969471062922928,70.75630600322052] |\n|[1469.6993929419532,-20.403124647615513,62.013569674880955]|\n|[1469.7159041892107,-20.771318327487293,61.95665044117209] |\n|[1469.7128317338704,-20.790751117222456,61.896106678330966]|\n|[1478.3530264572928,-20.294557029728722,71.67550104809607] |\n|[1478.3530264572928,-20.294557029728722,71.67550104809607] |\n|[1478.3686036138165,-20.260626897636314,71.63355353606426] |\n|[1478.3686036138165,-20.260626897636314,71.63355353606426] |\n|[1483.5412027684088,-20.006222577501354,66.82710394284209] |\n|[1483.5171090223353,-20.867020421583753,66.86707301954084] |\n|[1483.4224268542928,-19.87574823665505,66.93027077913985]  |\n|[1483.4224268542928,-19.87574823665505,66.93027077913985]  |\n|[1488.103073547271,-19.311848573386925,72.1626182636411]   |\n|[1488.1076926849646,-19.311945711095063,72.27621605605316] |\n|[1488.0135901575127,-17.455906109824838,72.2472987670925]  |\n|[1488.026374556614,-17.47632766649086,72.2214703423]       |\n|[1465.1644738447062,-17.50333829280811,47.06072898272612]  |\n|[1465.1644738447062,-17.50333829280811,47.06072898272612]  |\n+-----------------------------------------------------------+\nonly showing top 20 rows\n\n"
                }
            ], 
            "metadata": {}
        }, 
        {
            "source": "result_pca.rdd.map(lambda row : row.pcaFeatures).take(10)", 
            "cell_type": "code", 
            "execution_count": 25, 
            "outputs": [
                {
                    "output_type": "execute_result", 
                    "metadata": {}, 
                    "data": {
                        "text/plain": "[DenseVector([1459.979, -18.7452, 70.7843]),\n DenseVector([1459.9955, -19.1134, 70.7274]),\n DenseVector([1460.0896, -20.9695, 70.7563]),\n DenseVector([1469.6994, -20.4031, 62.0136]),\n DenseVector([1469.7159, -20.7713, 61.9567]),\n DenseVector([1469.7128, -20.7908, 61.8961]),\n DenseVector([1478.353, -20.2946, 71.6755]),\n DenseVector([1478.353, -20.2946, 71.6755]),\n DenseVector([1478.3686, -20.2606, 71.6336]),\n DenseVector([1478.3686, -20.2606, 71.6336])]"
                    }, 
                    "execution_count": 25
                }
            ], 
            "metadata": {}
        }, 
        {
            "source": "rdd = result_pca.rdd.sample(False,0.1)", 
            "cell_type": "code", 
            "execution_count": 26, 
            "outputs": [], 
            "metadata": {}
        }, 
        {
            "source": "x = result_pca.rdd.map(lambda a : a.pcaFeatures).map(lambda a : a[0]).collect()\ny = result_pca.rdd.map(lambda a : a.pcaFeatures).map(lambda a : a[1]).collect()\nz = result_pca.rdd.map(lambda a : a.pcaFeatures).map(lambda a : a[2]).collect()\n", 
            "cell_type": "code", 
            "execution_count": 27, 
            "outputs": [], 
            "metadata": {}
        }, 
        {
            "source": "%matplotlib inline\nimport matplotlib.pyplot as plt\nfrom mpl_toolkits.mplot3d import Axes3D\n\n\nfig = plt.figure()\nax = fig.add_subplot(111, projection='3d')\n\n\n\n\nax.scatter(x,y,z, c='g', marker='*')\n\nax.set_xlabel('x')\nax.set_ylabel('y')\nax.set_zlabel('z')\n\nplt.show()\n", 
            "cell_type": "code", 
            "execution_count": 30, 
            "outputs": [
                {
                    "output_type": "display_data", 
                    "data": {
                        "image/png": "[encoded data removed]", 
                        "text/plain": "<Figure size 432x288 with 1 Axes>"
                    }, 
                    "metadata": {
                        "needs_background": "light"
                    }
                }
            ], 
            "metadata": {}
        }, 
        {
            "source": "", 
            "cell_type": "code", 
            "execution_count": null, 
            "outputs": [], 
            "metadata": {}
        }, 
        {
            "source": "type(assembler)\nassembler.explainParams()", 
            "cell_type": "code", 
            "execution_count": 145, 
            "outputs": [
                {
                    "output_type": "execute_result", 
                    "metadata": {}, 
                    "data": {
                        "text/plain": "\"inputCols: input column names. (current: ['min_temperature', 'max_temperature', 'min_voltage', 'max_voltage', 'min_flowrate', 'max_flowrate', 'min_frequency', 'max_frequency', 'min_hardness', 'max_hardness', 'min_speed', 'max_speed'])\\noutputCol: output column name. (default: VectorAssembler_491796ab14205c4d0506__output, current: features)\""
                    }, 
                    "execution_count": 145
                }
            ], 
            "metadata": {}
        }, 
        {
            "source": "features = assembler.transform(result)", 
            "cell_type": "code", 
            "execution_count": 151, 
            "outputs": [], 
            "metadata": {}
        }, 
        {
            "source": "type(features)\n\n", 
            "cell_type": "code", 
            "execution_count": 156, 
            "outputs": [
                {
                    "output_type": "error", 
                    "evalue": "'DataFrame' object has no attribute 'iloc'", 
                    "traceback": [
                        "\u001b[0;31m---------------------------------------------------------------------------\u001b[0m", 
                        "\u001b[0;31mAttributeError\u001b[0m                            Traceback (most recent call last)", 
                        "\u001b[0;32m<ipython-input-156-e96b62e886a9>\u001b[0m in \u001b[0;36m<module>\u001b[0;34m()\u001b[0m\n\u001b[1;32m      1\u001b[0m \u001b[0mtype\u001b[0m\u001b[0;34m(\u001b[0m\u001b[0mfeatures\u001b[0m\u001b[0;34m)\u001b[0m\u001b[0;34m\u001b[0m\u001b[0;34m\u001b[0m\u001b[0m\n\u001b[0;32m----> 2\u001b[0;31m \u001b[0mfeatures\u001b[0m\u001b[0;34m.\u001b[0m\u001b[0miloc\u001b[0m\u001b[0;34m[\u001b[0m\u001b[0;36m0\u001b[0m\u001b[0;34m,\u001b[0m\u001b[0;34m-\u001b[0m\u001b[0;36m1\u001b[0m\u001b[0;34m]\u001b[0m\u001b[0;34m\u001b[0m\u001b[0;34m\u001b[0m\u001b[0m\n\u001b[0m", 
                        "\u001b[0;32m/opt/ibm/spark/python/pyspark/sql/dataframe.py\u001b[0m in \u001b[0;36m__getattr__\u001b[0;34m(self, name)\u001b[0m\n\u001b[1;32m   1180\u001b[0m         \u001b[0;32mif\u001b[0m \u001b[0mname\u001b[0m \u001b[0;32mnot\u001b[0m \u001b[0;32min\u001b[0m \u001b[0mself\u001b[0m\u001b[0;34m.\u001b[0m\u001b[0mcolumns\u001b[0m\u001b[0;34m:\u001b[0m\u001b[0;34m\u001b[0m\u001b[0;34m\u001b[0m\u001b[0m\n\u001b[1;32m   1181\u001b[0m             raise AttributeError(\n\u001b[0;32m-> 1182\u001b[0;31m                 \"'%s' object has no attribute '%s'\" % (self.__class__.__name__, name))\n\u001b[0m\u001b[1;32m   1183\u001b[0m         \u001b[0mjc\u001b[0m \u001b[0;34m=\u001b[0m \u001b[0mself\u001b[0m\u001b[0;34m.\u001b[0m\u001b[0m_jdf\u001b[0m\u001b[0;34m.\u001b[0m\u001b[0mapply\u001b[0m\u001b[0;34m(\u001b[0m\u001b[0mname\u001b[0m\u001b[0;34m)\u001b[0m\u001b[0;34m\u001b[0m\u001b[0;34m\u001b[0m\u001b[0m\n\u001b[1;32m   1184\u001b[0m         \u001b[0;32mreturn\u001b[0m \u001b[0mColumn\u001b[0m\u001b[0;34m(\u001b[0m\u001b[0mjc\u001b[0m\u001b[0;34m)\u001b[0m\u001b[0;34m\u001b[0m\u001b[0;34m\u001b[0m\u001b[0m\n", 
                        "\u001b[0;31mAttributeError\u001b[0m: 'DataFrame' object has no attribute 'iloc'"
                    ], 
                    "ename": "AttributeError"
                }
            ], 
            "metadata": {}
        }, 
        {
            "source": "features.rdd.take(10)", 
            "cell_type": "code", 
            "execution_count": 150, 
            "outputs": [
                {
                    "output_type": "execute_result", 
                    "metadata": {}, 
                    "data": {
                        "text/plain": "[Row(min_temperature=81, max_temperature=100, min_voltage=221, max_voltage=223, min_flowrate=11, max_flowrate=11, min_frequency=68, max_frequency=76, min_hardness=71, max_hardness=78, min_speed=1033, max_speed=1033, features=DenseVector([81.0, 100.0, 221.0, 223.0, 11.0, 11.0, 68.0, 76.0, 71.0, 78.0, 1033.0, 1033.0])),\n Row(min_temperature=81, max_temperature=100, min_voltage=221, max_voltage=223, min_flowrate=11, max_flowrate=11, min_frequency=68, max_frequency=76, min_hardness=72, max_hardness=78, min_speed=1033, max_speed=1033, features=DenseVector([81.0, 100.0, 221.0, 223.0, 11.0, 11.0, 68.0, 76.0, 72.0, 78.0, 1033.0, 1033.0])),\n Row(min_temperature=81, max_temperature=100, min_voltage=221, max_voltage=223, min_flowrate=11, max_flowrate=11, min_frequency=68, max_frequency=76, min_hardness=72, max_hardness=80, min_speed=1033, max_speed=1033, features=DenseVector([81.0, 100.0, 221.0, 223.0, 11.0, 11.0, 68.0, 76.0, 72.0, 80.0, 1033.0, 1033.0])),\n Row(min_temperature=81, max_temperature=100, min_voltage=222, max_voltage=223, min_flowrate=11, max_flowrate=11, min_frequency=68, max_frequency=74, min_hardness=72, max_hardness=80, min_speed=1033, max_speed=1046, features=DenseVector([81.0, 100.0, 222.0, 223.0, 11.0, 11.0, 68.0, 74.0, 72.0, 80.0, 1033.0, 1046.0])),\n Row(min_temperature=81, max_temperature=100, min_voltage=222, max_voltage=223, min_flowrate=11, max_flowrate=11, min_frequency=68, max_frequency=74, min_hardness=73, max_hardness=80, min_speed=1033, max_speed=1046, features=DenseVector([81.0, 100.0, 222.0, 223.0, 11.0, 11.0, 68.0, 74.0, 73.0, 80.0, 1033.0, 1046.0])),\n Row(min_temperature=80, max_temperature=94, min_voltage=222, max_voltage=223, min_flowrate=11, max_flowrate=11, min_frequency=68, max_frequency=74, min_hardness=73, max_hardness=80, min_speed=1033, max_speed=1046, features=DenseVector([80.0, 94.0, 222.0, 223.0, 11.0, 11.0, 68.0, 74.0, 73.0, 80.0, 1033.0, 1046.0])),\n Row(min_temperature=80, max_temperature=94, min_voltage=222, max_voltage=236, min_flowrate=11, max_flowrate=11, min_frequency=68, max_frequency=74, min_hardness=73, max_hardness=80, min_speed=1046, max_speed=1046, features=DenseVector([80.0, 94.0, 222.0, 236.0, 11.0, 11.0, 68.0, 74.0, 73.0, 80.0, 1046.0, 1046.0])),\n Row(min_temperature=80, max_temperature=94, min_voltage=222, max_voltage=236, min_flowrate=11, max_flowrate=11, min_frequency=68, max_frequency=74, min_hardness=73, max_hardness=80, min_speed=1046, max_speed=1046, features=DenseVector([80.0, 94.0, 222.0, 236.0, 11.0, 11.0, 68.0, 74.0, 73.0, 80.0, 1046.0, 1046.0])),\n Row(min_temperature=80, max_temperature=94, min_voltage=222, max_voltage=236, min_flowrate=11, max_flowrate=11, min_frequency=71, max_frequency=74, min_hardness=73, max_hardness=80, min_speed=1046, max_speed=1046, features=DenseVector([80.0, 94.0, 222.0, 236.0, 11.0, 11.0, 71.0, 74.0, 73.0, 80.0, 1046.0, 1046.0])),\n Row(min_temperature=80, max_temperature=94, min_voltage=222, max_voltage=236, min_flowrate=11, max_flowrate=11, min_frequency=71, max_frequency=74, min_hardness=73, max_hardness=80, min_speed=1046, max_speed=1046, features=DenseVector([80.0, 94.0, 222.0, 236.0, 11.0, 11.0, 71.0, 74.0, 73.0, 80.0, 1046.0, 1046.0]))]"
                    }, 
                    "execution_count": 150
                }
            ], 
            "metadata": {}
        }, 
        {
            "source": "features_rdd = features.rdd.map(lambda row : row.feature )", 
            "cell_type": "code", 
            "execution_count": null, 
            "outputs": [], 
            "metadata": {}
        }, 
        {
            "source": "", 
            "cell_type": "code", 
            "execution_count": null, 
            "outputs": [], 
            "metadata": {}
        }, 
        {
            "source": "", 
            "cell_type": "code", 
            "execution_count": null, 
            "outputs": [], 
            "metadata": {}
        }, 
        {
            "source": "", 
            "cell_type": "code", 
            "execution_count": null, 
            "outputs": [], 
            "metadata": {}
        }, 
        {
            "source": "Congratulations, you are done! Please download the notebook as python file, name it assignment4.1.py and submit it to the grader.", 
            "cell_type": "markdown", 
            "metadata": {}
        }, 
        {
            "source": "", 
            "cell_type": "code", 
            "execution_count": null, 
            "outputs": [], 
            "metadata": {}
        }
    ], 
    "nbformat": 4, 
    "metadata": {
        "kernelspec": {
            "display_name": "Python 3.6 with Spark", 
            "name": "python36", 
            "language": "python3"
        }, 
        "language_info": {
            "mimetype": "text/x-python", 
            "nbconvert_exporter": "python", 
            "version": "3.6.8", 
            "name": "python", 
            "pygments_lexer": "ipython3", 
            "file_extension": ".py", 
            "codemirror_mode": {
                "version": 3, 
                "name": "ipython"
            }
        }
    }
}